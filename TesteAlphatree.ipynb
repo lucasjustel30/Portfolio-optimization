{
 "cells": [
  {
   "cell_type": "markdown",
   "id": "c3e11e51",
   "metadata": {},
   "source": [
    "\n",
    "Pergunta 4: Crie um gráfico da \"Fronteira Eficiente de Markovitz\" entre dois ativos utilizando dados entre 01/Jan/2017 até 01/Fev/2022. (livre escolha do candidato a escolha dos ativos, e obtenção dos dados)\n"
   ]
  },
  {
   "cell_type": "markdown",
   "id": "039ad166",
   "metadata": {},
   "source": [
    "\n",
    "Importação das bibliotecas\n"
   ]
  },
  {
   "cell_type": "code",
   "execution_count": 9,
   "id": "db56f543",
   "metadata": {},
   "outputs": [],
   "source": [
    "import pandas as pd\n",
    "import numpy as np\n",
    "import matplotlib.pyplot as plt\n",
    "from datetime import datetime\n",
    "from scipy.optimize import minimize\n",
    "import yfinance as yf"
   ]
  },
  {
   "cell_type": "markdown",
   "id": "19773362",
   "metadata": {},
   "source": [
    "\n",
    "Definindo os tickers e o intervalo de tempo: \n",
    "\n",
    "- PETR4 e VALE3\n",
    "- entre 01/Jan/2017 e 01/Fev/2022\n",
    " \n",
    "É usado '.SA' no final do ticker pra pegar as cotações de empresas brasileiras na API do yahoo finance\n",
    "\n"
   ]
  },
  {
   "cell_type": "code",
   "execution_count": 10,
   "id": "543ebad0",
   "metadata": {},
   "outputs": [
    {
     "name": "stdout",
     "output_type": "stream",
     "text": [
      "[*********************100%***********************]  2 of 2 completed\n"
     ]
    }
   ],
   "source": [
    "\n",
    "tickers = 'PETR4.SA VALE3.SA'\n",
    "start_date = datetime(2017, 1, 1)\n",
    "end_date = datetime(2022, 2, 1)\n",
    "data = yf.download(tickers, start=start_date, end=end_date, interval=\"1d\")\n"
   ]
  },
  {
   "cell_type": "markdown",
   "id": "5fc7e827",
   "metadata": {},
   "source": [
    "\n",
    "Calcula os retornos percentuais diários dos ativos com o método \"pct_change\" e armazena os resultados na variável \"rtns\".\n"
   ]
  },
  {
   "cell_type": "code",
   "execution_count": 11,
   "id": "ab9aa1b9",
   "metadata": {},
   "outputs": [],
   "source": [
    "\n",
    "close = data.loc[:, \"Adj Close\"]\n",
    "rtns = close.pct_change()\n",
    "n = len(close.columns)\n",
    "equity = 10000.00\n"
   ]
  },
  {
   "cell_type": "markdown",
   "id": "674b06a7",
   "metadata": {},
   "source": [
    "\n",
    "Calcular algumas partes estatísticas\n",
    "\n",
    "'covar()' é covariancia\n",
    "'pofo_return()' é o retorno experado do protfolio\n",
    "'The sharpe()' é o índice de sharpe \n",
    "'cal()' é o montante a investir em cada ação baseado no índice de sharpe 'sr' e nos pesos 'x'\n"
   ]
  },
  {
   "cell_type": "code",
   "execution_count": 12,
   "id": "81f1761f",
   "metadata": {},
   "outputs": [],
   "source": [
    "mean_rtn = rtns.mean() * 252 ** 0.5\n",
    "sd = np.std(rtns)\n",
    "var = sd ** 2\n",
    "\n",
    "def covar(x):\n",
    "    mtx = np.cov(rtns.dropna(), rowvar=False)\n",
    "    for i in range(n):\n",
    "        for j in range(n):\n",
    "            mtx[i, j] = mtx[i, j] * x[i] * x[j]\n",
    "\n",
    "    return mtx.sum() * 252 ** 0.5\n",
    "\n",
    "\n",
    "def pofo_return(x, mean_rtn):\n",
    "    return sum(x * mean_rtn)\n",
    "\n",
    "\n",
    "def sharpe(x, mean_rtn):\n",
    "    sd = covar(x) ** 0.5\n",
    "    rtn = pofo_return(x, mean_rtn)\n",
    "\n",
    "    return rtn / sd\n",
    "\n",
    "\n",
    "def cal(x, sr):\n",
    "    return x * sr"
   ]
  },
  {
   "cell_type": "markdown",
   "id": "9bd0ac7d",
   "metadata": {},
   "source": [
    "\n",
    "Encontrar os valores da fronteira eficiente\n"
   ]
  },
  {
   "cell_type": "code",
   "execution_count": 13,
   "id": "d0b9e00c",
   "metadata": {},
   "outputs": [],
   "source": [
    "def constraint2(x, target):\n",
    "    p_rtn = target\n",
    "    for i in range(n):\n",
    "        p_rtn = p_rtn - (x[i] * mean_rtn[i])\n",
    "\n",
    "    return p_rtn"
   ]
  },
  {
   "cell_type": "markdown",
   "id": "5689c3cd",
   "metadata": {},
   "source": [
    "\n",
    "Isso limita o St Dev quando achar o retorno máximo\n"
   ]
  },
  {
   "cell_type": "code",
   "execution_count": 14,
   "id": "b5aba519",
   "metadata": {},
   "outputs": [],
   "source": [
    "\n",
    "def constraint3(x):\n",
    "    p_sd = 0.5\n",
    "\n",
    "    return p_sd - (covar(x) ** 0.5)\n",
    "\n",
    "\n",
    "con1 = {\"type\": \"eq\", \"fun\": constraint1}\n",
    "con2 = {\"type\": \"eq\", \"fun\": constraint2}\n",
    "con3 = {\"type\": \"eq\", \"fun\": constraint3}\n",
    "cons = [con1, con2, con3]\n",
    "\n",
    "\n",
    "x0 = [1 / n for i in range(n)]\n"
   ]
  },
  {
   "cell_type": "markdown",
   "id": "5b549ada",
   "metadata": {},
   "source": [
    "\n",
    "Encontre os pesos para um portfolio de mínima variancia \n"
   ]
  },
  {
   "cell_type": "code",
   "execution_count": 15,
   "id": "eeeeeb63",
   "metadata": {},
   "outputs": [],
   "source": [
    "\n",
    "opt_var = minimize(covar, x0, method=\"SLSQP\", tol=1e-10, constraints=con1)\n",
    "min_var_w = opt_var.x\n"
   ]
  },
  {
   "cell_type": "markdown",
   "id": "35b40276",
   "metadata": {},
   "source": [
    "\n",
    "Encontre os pesos para um portfolio de máximo retorno\n"
   ]
  },
  {
   "cell_type": "code",
   "execution_count": 16,
   "id": "6ff1664f",
   "metadata": {},
   "outputs": [],
   "source": [
    "\n",
    "opt_rtn = minimize(\n",
    "    pofo_return, x0, method=\"SLSQP\", args=-mean_rtn, tol=1e-10, constraints=[con1, con3]\n",
    ")\n",
    "max_rtn_w = opt_rtn.x\n"
   ]
  },
  {
   "cell_type": "markdown",
   "id": "9ce32aa3",
   "metadata": {},
   "source": [
    "\n",
    "Maximar o índice de sharpe\n"
   ]
  },
  {
   "cell_type": "code",
   "execution_count": 17,
   "id": "51738c24",
   "metadata": {},
   "outputs": [],
   "source": [
    "\n",
    "opt_sr = minimize(\n",
    "    sharpe, x0, method=\"SLSQP\", args=-mean_rtn, tol=1e-10, constraints=con1\n",
    ")\n",
    "max_sr_w = opt_sr.x\n",
    "\n",
    "\n",
    "p_var = covar(max_sr_w)\n",
    "p_sd = p_var ** 0.5\n",
    "p_rtn = pofo_return(max_sr_w, mean_rtn)\n"
   ]
  },
  {
   "cell_type": "markdown",
   "id": "80277a91",
   "metadata": {},
   "source": [
    "\n",
    "Exibir os pesos de forma coesa\n"
   ]
  },
  {
   "cell_type": "code",
   "execution_count": 18,
   "id": "4ee68f88",
   "metadata": {},
   "outputs": [
    {
     "name": "stdout",
     "output_type": "stream",
     "text": [
      "Optimized Portfolio Weights\n",
      "\n",
      "PETR4.SA: 27.55%; $2755.42\n",
      "VALE3.SA: 72.45%; $7244.58\n",
      "\n",
      "Return: 2.0%, St Dev: 9.0%\n"
     ]
    },
    {
     "data": {
      "text/plain": [
       "array([0.27554224, 0.72445776])"
      ]
     },
     "execution_count": 18,
     "metadata": {},
     "output_type": "execute_result"
    }
   ],
   "source": [
    "print('Optimized Portfolio Weights\\n')\n",
    "for i in range(n):\n",
    "    print(\n",
    "        f\"{close.columns[i]}: {round(max_sr_w[i] * 100, 2)}%; ${round(equity * max_sr_w[i], 2)}\"\n",
    "    )\n",
    "\n",
    "print(f'\\nReturn: {round(p_rtn, 2) * 100}%, St Dev: {round(p_sd, 2) * 100}%')\n",
    "\n",
    "max_sr_w\n",
    "\n"
   ]
  },
  {
   "cell_type": "markdown",
   "id": "bb32e25e",
   "metadata": {},
   "source": [
    "\n",
    "Calcule o índice de sharpe, slope of CAL\n"
   ]
  },
  {
   "cell_type": "code",
   "execution_count": 19,
   "id": "cf857f50",
   "metadata": {},
   "outputs": [],
   "source": [
    "\n",
    "sr = sharpe(max_sr_w, mean_rtn)\n"
   ]
  },
  {
   "cell_type": "markdown",
   "id": "43174e30",
   "metadata": {},
   "source": [
    "\n",
    "O seguinte código gera tamanhos para a frontera eficiente\n"
   ]
  },
  {
   "cell_type": "code",
   "execution_count": 20,
   "id": "0a298959",
   "metadata": {},
   "outputs": [
    {
     "name": "stdout",
     "output_type": "stream",
     "text": [
      "Calculated in 0.969 seconds\n"
     ]
    }
   ],
   "source": [
    "\n",
    "import time\n",
    "\n",
    "df_values = []\n",
    "ll = -5\n",
    "ul = 115\n",
    "step = 0.0025\n",
    "start = time.perf_counter()\n",
    "for i in range(ll, ul):\n",
    "    target = [i * step]\n",
    "\n",
    "    con2 = {\"type\": \"eq\", \"fun\": constraint2, \"args\": target}\n",
    "\n",
    "    ef_sol = minimize(covar, x0, method=\"SLSQP\", tol=1e-10, constraints=[con1, con2])\n",
    "    values = ef_sol.x.tolist()\n",
    "    df_values.append(values)\n",
    "stop = time.perf_counter()\n",
    "print(f\"Calculated in {round(stop - start, 3)} seconds\")\n",
    "ef_values = pd.DataFrame(\n",
    "    df_values, columns=close.columns, index=[i for i in range(ll, ul)]\n",
    ")\n"
   ]
  },
  {
   "cell_type": "markdown",
   "id": "36bb5de0",
   "metadata": {},
   "source": [
    "\n",
    "Isso gera dados para a fronteira eficiente\n"
   ]
  },
  {
   "cell_type": "code",
   "execution_count": 21,
   "id": "c688a75d",
   "metadata": {},
   "outputs": [],
   "source": [
    "\n",
    "y = []\n",
    "for i in range(ll, ul):\n",
    "    value = round(covar(ef_values.loc[i, :]) ** 0.5 * 100, 2)\n",
    "    y.append(value)\n",
    "    "
   ]
  },
  {
   "cell_type": "markdown",
   "id": "3fae5c52",
   "metadata": {},
   "source": [
    "\n",
    "Isso gera pontos para a linha de alocação de capital\n"
   ]
  },
  {
   "cell_type": "code",
   "execution_count": 22,
   "id": "b7ab0b07",
   "metadata": {},
   "outputs": [],
   "source": [
    "\n",
    "calues = []\n",
    "for i in range(ll, ul):\n",
    "    value = cal(i, sr)\n",
    "    calues.append(value)\n",
    "\n",
    "ef_values[\"return\"] = [i * step * 100 for i in range(ll, ul)]\n",
    "ef_values[\"ef\"] = y\n",
    "ef_values[\"cal\"] = calues\n"
   ]
  },
  {
   "cell_type": "markdown",
   "id": "57bb4fc1",
   "metadata": {},
   "source": [
    "\n",
    "Irá retorno para isso, isso será usado na verificação em the max_sr_w\n"
   ]
  },
  {
   "cell_type": "code",
   "execution_count": 23,
   "id": "81ffe2c4",
   "metadata": {},
   "outputs": [],
   "source": [
    "ef_values[\"int\"] = abs(ef_values[\"cal\"] - ef_values[\"ef\"])\n",
    "idx = ef_values[ef_values[\"int\"] == min(ef_values[\"int\"])].index.values\n",
    "w = ef_values.iloc[idx - ll, :-4]\n",
    "# opt_w = []\n",
    "# for i in range(n):\n",
    "#     opt_w.append(w.iloc[0, i])"
   ]
  },
  {
   "cell_type": "markdown",
   "id": "764f645a",
   "metadata": {},
   "source": [
    "\n",
    "Plotar a fronteira eficiente e o cal\n"
   ]
  },
  {
   "cell_type": "code",
   "execution_count": 24,
   "id": "83b92196",
   "metadata": {},
   "outputs": [
    {
     "data": {
      "image/png": "[encoded data removed]",
      "text/plain": [
       "<Figure size 432x288 with 1 Axes>"
      ]
     },
     "metadata": {
      "needs_background": "light"
     },
     "output_type": "display_data"
    }
   ],
   "source": [
    "plt.plot(\n",
    "    ef_values[\"ef\"], ef_values[\"return\"], \"b-\", ef_values.index, ef_values[\"cal\"], \"r-\"\n",
    ")\n",
    "plt.title(\"Efficient Frontier\")\n",
    "plt.xlabel(\"Portfolio SD (%)\")\n",
    "plt.ylabel(\"Portfolio Return (%)\")\n",
    "plt.grid(True)\n",
    "plt.xlim(-2, 15)\n",
    "plt.ylim(-2, 15)\n",
    "plt.show()\n"
   ]
  }
 ],
 "metadata": {
  "kernelspec": {
   "display_name": "Python 3 (ipykernel)",
   "language": "python",
   "name": "python3"
  },
  "language_info": {
   "codemirror_mode": {
    "name": "ipython",
    "version": 3
   },
   "file_extension": ".py",
   "mimetype": "text/x-python",
   "name": "python",
   "nbconvert_exporter": "python",
   "pygments_lexer": "ipython3",
   "version": "3.9.13"
  }
 },
 "nbformat": 4,
 "nbformat_minor": 5
}
